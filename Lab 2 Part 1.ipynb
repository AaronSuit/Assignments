{
 "cells": [
  {
   "cell_type": "code",
   "execution_count": null,
   "metadata": {},
   "outputs": [],
   "source": [
    "def triangle(a,b,c):\n",
    "    if (a + b <= c) or (a + c <= b) or (b + c <= a):\n",
    "        print(\"Those lengths will not create a triangle.\")\n",
    "    else:\n",
    "        print(\"Those lengths will make a triangle.\")\n",
    "    return       "
   ]
  },
  {
   "cell_type": "code",
   "execution_count": null,
   "metadata": {},
   "outputs": [],
   "source": [
    "a = input(\"Please enter the length for side 1: \")\n",
    "a = int(a)\n",
    "b = input(\"Please enter the length for side 2: \")\n",
    "b = int(b)\n",
    "c = input(\"Please enter the length for side 3: \")\n",
    "c = int(c)\n",
    "\n",
    "print (triangle(a,b,c))\n",
    "\n",
    "answer=input(\"Would you like to try again?  Y or N: \")\n",
    "while answer.upper()==\"Y\" or answer.upper()==\"YES\":\n",
    "    a = input(\"Please enter the length for side 1: \")\n",
    "    a = int(a)\n",
    "    b = input(\"Please enter the length for side 2: \")\n",
    "    b = int(b)\n",
    "    c = input(\"Please enter the length for side 3: \")\n",
    "    c = int(c)\n",
    "    print(triangle(a,b,c))\n",
    "    answer=input(\"Would you like to try again?  Y or N: \")\n",
    "if answer.upper()!=\"Y\" or answer.upper()!=\"YES\":\n",
    "    print(\"Have a nice day.\")"
   ]
  },
  {
   "cell_type": "code",
   "execution_count": null,
   "metadata": {},
   "outputs": [],
   "source": []
  }
 ],
 "metadata": {
  "kernelspec": {
   "display_name": "Python 3",
   "language": "python",
   "name": "python3"
  },
  "language_info": {
   "codemirror_mode": {
    "name": "ipython",
    "version": 3
   },
   "file_extension": ".py",
   "mimetype": "text/x-python",
   "name": "python",
   "nbconvert_exporter": "python",
   "pygments_lexer": "ipython3",
   "version": "3.6.5"
  }
 },
 "nbformat": 4,
 "nbformat_minor": 2
}
